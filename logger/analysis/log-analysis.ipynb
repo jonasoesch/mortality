{
 "cells": [
  {
   "cell_type": "code",
   "execution_count": 2,
   "metadata": {},
   "outputs": [],
   "source": [
    "import pandas as pd\n",
    "import numpy as np"
   ]
  },
  {
   "cell_type": "code",
   "execution_count": 3,
   "metadata": {},
   "outputs": [],
   "source": [
    "data = pd.read_csv(\"../logs/all.csv\",\n",
    "                  names=[\"time\", \"source\", \"user\", \"session\", \"userAgent\", \"screenWidth\", \"screenHeight\", \n",
    "                         \"windowWidth\", \"windowHeight\", \"resolution\", \"graph\", \"position\"])"
   ]
  },
  {
   "cell_type": "markdown",
   "metadata": {},
   "source": [
    "## Cleanup"
   ]
  },
  {
   "cell_type": "markdown",
   "metadata": {},
   "source": [
    "Remove the first part of the source which is unimportant"
   ]
  },
  {
   "cell_type": "code",
   "execution_count": 4,
   "metadata": {},
   "outputs": [],
   "source": [
    "data[\"source\"] = data[\"source\"].str.replace(\"https://jonasoesch.ch/content/work/mortality/\", \"\")"
   ]
  },
  {
   "cell_type": "markdown",
   "metadata": {},
   "source": [
    "Split source into scenario and story"
   ]
  },
  {
   "cell_type": "code",
   "execution_count": 5,
   "metadata": {},
   "outputs": [],
   "source": [
    "data[\"scenario\"] = data[\"source\"].str.split(\"/\", expand=True)[0]"
   ]
  },
  {
   "cell_type": "code",
   "execution_count": 6,
   "metadata": {},
   "outputs": [],
   "source": [
    "data[\"story\"] = data[\"source\"].str.split(\"/\", expand=True)[1].str.split(\".\", expand=True)[0]"
   ]
  },
  {
   "cell_type": "code",
   "execution_count": 7,
   "metadata": {},
   "outputs": [],
   "source": [
    "#data = data.drop([\"source\"], axis=1)"
   ]
  },
  {
   "cell_type": "markdown",
   "metadata": {},
   "source": [
    "Remove entries where the graph has been undefined (not drawn yet)"
   ]
  },
  {
   "cell_type": "code",
   "execution_count": 8,
   "metadata": {},
   "outputs": [],
   "source": [
    "data = data[data[\"graph\"] != \"undefined\"]"
   ]
  },
  {
   "cell_type": "markdown",
   "metadata": {},
   "source": [
    "## Plausability checks"
   ]
  },
  {
   "cell_type": "markdown",
   "metadata": {},
   "source": [
    "### When was the first recording by scenario"
   ]
  },
  {
   "cell_type": "code",
   "execution_count": 9,
   "metadata": {},
   "outputs": [
    {
     "data": {
      "text/plain": [
       "scenario\n",
       "juxtaposed-animated   2019-02-04 10:03:03.177\n",
       "juxtaposed-static     2019-02-04 19:00:43.956\n",
       "superposed-animated   2019-02-04 18:59:35.878\n",
       "superposed-static     2019-02-04 18:51:06.671\n",
       "Name: time, dtype: datetime64[ns]"
      ]
     },
     "execution_count": 9,
     "metadata": {},
     "output_type": "execute_result"
    }
   ],
   "source": [
    "pd.to_datetime(data.groupby([\"scenario\"])[\"time\"].min(), unit=\"ms\") "
   ]
  },
  {
   "cell_type": "markdown",
   "metadata": {},
   "source": [
    "### When was the latest regording by scenario"
   ]
  },
  {
   "cell_type": "code",
   "execution_count": 10,
   "metadata": {},
   "outputs": [
    {
     "data": {
      "text/plain": [
       "scenario\n",
       "juxtaposed-animated   2019-02-19 12:56:21.761\n",
       "juxtaposed-static     2019-02-19 10:32:45.696\n",
       "superposed-animated   2019-02-19 10:30:33.884\n",
       "superposed-static     2019-02-18 18:58:54.963\n",
       "Name: time, dtype: datetime64[ns]"
      ]
     },
     "execution_count": 10,
     "metadata": {},
     "output_type": "execute_result"
    }
   ],
   "source": [
    "pd.to_datetime(data.groupby([\"scenario\"])[\"time\"].max(), unit=\"ms\") "
   ]
  },
  {
   "cell_type": "markdown",
   "metadata": {},
   "source": [
    "### There should only be one user-agent string per user"
   ]
  },
  {
   "cell_type": "code",
   "execution_count": 11,
   "metadata": {},
   "outputs": [
    {
     "data": {
      "text/plain": [
       "user\n",
       "1549545871217-0.dgx1qfz08iv    2\n",
       "1549545879946-0.616nkiecbnc    2\n",
       "1549550007373-0.gy5gegu2zrc    2\n",
       "Name: userAgent, dtype: int64"
      ]
     },
     "execution_count": 11,
     "metadata": {},
     "output_type": "execute_result"
    }
   ],
   "source": [
    "uaPerUser = data.groupby([\"user\"])[\"userAgent\"].agg(lambda ua: len(ua.unique()))\n",
    "uaPerUser[uaPerUser > 1]"
   ]
  },
  {
   "cell_type": "markdown",
   "metadata": {},
   "source": [
    "### Why are there two user agent strings?"
   ]
  },
  {
   "cell_type": "code",
   "execution_count": 12,
   "metadata": {},
   "outputs": [
    {
     "data": {
      "text/plain": [
       "array(['Mozilla/5.0 (Macintosh; Intel Mac OS X 10_14_0) AppleWebKit/537.36 (KHTML, like Gecko) Chrome/72.0.3626.96 Safari/537.36',\n",
       "       'Mozilla/5.0 (Macintosh; Intel Mac OS X 10_14_0) AppleWebKit/537.36 (KHTML, like Gecko) Chrome/72.0.3626.109 Safari/537.36'],\n",
       "      dtype=object)"
      ]
     },
     "execution_count": 12,
     "metadata": {},
     "output_type": "execute_result"
    }
   ],
   "source": [
    "data[data[\"user\"].str.contains(\"1549545871217-0.dgx1qfz08iv\")][\"userAgent\"].unique()"
   ]
  },
  {
   "cell_type": "code",
   "execution_count": 13,
   "metadata": {},
   "outputs": [
    {
     "data": {
      "text/plain": [
       "array(['Mozilla/5.0 (Macintosh; Intel Mac OS X 10_14_0) AppleWebKit/537.36 (KHTML, like Gecko) Chrome/72.0.3626.96 Safari/537.36',\n",
       "       'Mozilla/5.0 (Macintosh; Intel Mac OS X 10_14_0) AppleWebKit/537.36 (KHTML, like Gecko) Chrome/72.0.3626.109 Safari/537.36'],\n",
       "      dtype=object)"
      ]
     },
     "execution_count": 13,
     "metadata": {},
     "output_type": "execute_result"
    }
   ],
   "source": [
    "data[data[\"user\"].str.contains(\"1549545879946-0.616nkiecbnc\")][\"userAgent\"].unique()"
   ]
  },
  {
   "cell_type": "code",
   "execution_count": 14,
   "metadata": {},
   "outputs": [
    {
     "data": {
      "text/plain": [
       "array(['Mozilla/5.0 (Windows NT 10.0; Win64; x64) AppleWebKit/537.36 (KHTML, like Gecko) Chrome/72.0.3626.96 Safari/537.36',\n",
       "       'Mozilla/5.0 (Windows NT 10.0; Win64; x64) AppleWebKit/537.36 (KHTML, like Gecko) Chrome/72.0.3626.109 Safari/537.36'],\n",
       "      dtype=object)"
      ]
     },
     "execution_count": 14,
     "metadata": {},
     "output_type": "execute_result"
    }
   ],
   "source": [
    "data[data[\"user\"].str.contains(\"1549550007373-0.gy5gegu2zrc\")][\"userAgent\"].unique()"
   ]
  },
  {
   "cell_type": "markdown",
   "metadata": {},
   "source": [
    "Answer: a Chrome Update on Windows and on Mac"
   ]
  },
  {
   "cell_type": "markdown",
   "metadata": {},
   "source": [
    "### There should be only one user per session"
   ]
  },
  {
   "cell_type": "code",
   "execution_count": 15,
   "metadata": {},
   "outputs": [
    {
     "data": {
      "text/plain": [
       "Series([], Name: user, dtype: int64)"
      ]
     },
     "execution_count": 15,
     "metadata": {},
     "output_type": "execute_result"
    }
   ],
   "source": [
    "usersPerSession = data.groupby(\"session\")[\"user\"].agg(lambda user: len(user.unique()))\n",
    "usersPerSession[usersPerSession > 1]"
   ]
  },
  {
   "cell_type": "markdown",
   "metadata": {},
   "source": [
    "### The position should always be between 0 and -1"
   ]
  },
  {
   "cell_type": "code",
   "execution_count": 16,
   "metadata": {},
   "outputs": [
    {
     "data": {
      "text/plain": [
       "0"
      ]
     },
     "execution_count": 16,
     "metadata": {},
     "output_type": "execute_result"
    }
   ],
   "source": [
    "len(data[data[\"position\"] > 1])"
   ]
  },
  {
   "cell_type": "code",
   "execution_count": 17,
   "metadata": {},
   "outputs": [
    {
     "data": {
      "text/plain": [
       "0"
      ]
     },
     "execution_count": 17,
     "metadata": {},
     "output_type": "execute_result"
    }
   ],
   "source": [
    "len(data[data[\"position\"] < -1])"
   ]
  },
  {
   "cell_type": "markdown",
   "metadata": {},
   "source": [
    "### Positions that are smaller than 0 should not be on a regular graph and the inverse"
   ]
  },
  {
   "cell_type": "code",
   "execution_count": 18,
   "metadata": {},
   "outputs": [
    {
     "name": "stderr",
     "output_type": "stream",
     "text": [
      "/usr/local/Cellar/ipython/6.5.0/libexec/vendor/lib/python3.7/site-packages/ipykernel_launcher.py:1: UserWarning: Boolean Series key will be reindexed to match DataFrame index.\n",
      "  \"\"\"Entry point for launching an IPython kernel.\n"
     ]
    },
    {
     "data": {
      "text/plain": [
       "0"
      ]
     },
     "execution_count": 18,
     "metadata": {},
     "output_type": "execute_result"
    }
   ],
   "source": [
    "len(data[data[\"position\"] < 0][~data[\"graph\"].str.contains(\"@\")])"
   ]
  },
  {
   "cell_type": "code",
   "execution_count": 19,
   "metadata": {},
   "outputs": [
    {
     "name": "stderr",
     "output_type": "stream",
     "text": [
      "/usr/local/Cellar/ipython/6.5.0/libexec/vendor/lib/python3.7/site-packages/ipykernel_launcher.py:1: UserWarning: Boolean Series key will be reindexed to match DataFrame index.\n",
      "  \"\"\"Entry point for launching an IPython kernel.\n"
     ]
    },
    {
     "data": {
      "text/plain": [
       "0"
      ]
     },
     "execution_count": 19,
     "metadata": {},
     "output_type": "execute_result"
    }
   ],
   "source": [
    "len(data[data[\"position\"] > 0][data[\"graph\"].str.contains(\"@\")])"
   ]
  },
  {
   "cell_type": "markdown",
   "metadata": {},
   "source": [
    "## The first entry of a session is always @init"
   ]
  },
  {
   "cell_type": "code",
   "execution_count": 60,
   "metadata": {},
   "outputs": [
    {
     "data": {
      "text/plain": [
       "array(['1549274269236-0.yzc7jfhnfej'], dtype=object)"
      ]
     },
     "execution_count": 60,
     "metadata": {},
     "output_type": "execute_result"
    }
   ],
   "source": [
    "firstEntry = data.copy()\n",
    "firstEntry[\"entry\"] = data.session.map(data.groupby(\"session\")[\"graph\"].first())\n",
    "firstEntry[firstEntry.entry != \"@init\"].session.unique()"
   ]
  },
  {
   "cell_type": "markdown",
   "metadata": {},
   "source": [
    "Only in the first recorded session, this was not the case. It was probably not implemented then yet."
   ]
  },
  {
   "cell_type": "markdown",
   "metadata": {},
   "source": [
    "## Exploration\n",
    "\n",
    "### How many sessions per scenario?"
   ]
  },
  {
   "cell_type": "code",
   "execution_count": 20,
   "metadata": {},
   "outputs": [
    {
     "data": {
      "text/plain": [
       "scenario\n",
       "juxtaposed-animated    71\n",
       "juxtaposed-static      15\n",
       "superposed-animated    31\n",
       "superposed-static      24\n",
       "Name: session, dtype: int64"
      ]
     },
     "execution_count": 20,
     "metadata": {},
     "output_type": "execute_result"
    }
   ],
   "source": [
    "data.groupby([\"scenario\"])[\"session\"].agg(lambda session: len(session.unique()))"
   ]
  },
  {
   "cell_type": "markdown",
   "metadata": {},
   "source": [
    "### How many sessions per story?"
   ]
  },
  {
   "cell_type": "code",
   "execution_count": 21,
   "metadata": {},
   "outputs": [
    {
     "data": {
      "text/plain": [
       "story\n",
       "absolute        33\n",
       "causes          18\n",
       "demographics    62\n",
       "relative        28\n",
       "Name: session, dtype: int64"
      ]
     },
     "execution_count": 21,
     "metadata": {},
     "output_type": "execute_result"
    }
   ],
   "source": [
    "data.groupby([\"story\"])[\"session\"].agg(lambda session: len(session.unique()))"
   ]
  },
  {
   "cell_type": "markdown",
   "metadata": {},
   "source": [
    "## Sessions over time"
   ]
  },
  {
   "cell_type": "code",
   "execution_count": 22,
   "metadata": {},
   "outputs": [],
   "source": [
    "sessions = data.groupby(\"session\").agg({\"session\": \"first\", \"time\": \"min\", \"scenario\": \"first\"})\n",
    "sessions[\"time\"] = pd.to_datetime(sessions[\"time\"], unit=\"ms\")\n",
    "sessions.to_csv(\"sessions_ts.csv\")"
   ]
  },
  {
   "cell_type": "markdown",
   "metadata": {},
   "source": [
    "See `timedistribution.vl`"
   ]
  },
  {
   "cell_type": "markdown",
   "metadata": {},
   "source": [
    "## How long are session durations?"
   ]
  },
  {
   "cell_type": "code",
   "execution_count": 23,
   "metadata": {},
   "outputs": [],
   "source": [
    "durations = data.groupby(\"session\").agg({\"session\": \"first\", \"time\": [\"min\", \"max\"], \"scenario\": \"first\"})\n",
    "durations[\"duration\"] = (durations[\"time\", \"max\"] - durations[\"time\", \"min\"]) / 1000\n",
    "durations.to_csv(\"session_durations.csv\")"
   ]
  },
  {
   "cell_type": "code",
   "execution_count": 24,
   "metadata": {},
   "outputs": [
    {
     "data": {
      "text/plain": [
       "0.0"
      ]
     },
     "execution_count": 24,
     "metadata": {},
     "output_type": "execute_result"
    }
   ],
   "source": [
    "durations[\"duration\"].min()"
   ]
  },
  {
   "cell_type": "code",
   "execution_count": 25,
   "metadata": {},
   "outputs": [
    {
     "data": {
      "text/plain": [
       "47.87285027777777"
      ]
     },
     "execution_count": 25,
     "metadata": {},
     "output_type": "execute_result"
    }
   ],
   "source": [
    "durations[\"duration\"].max() / 60 / 60"
   ]
  },
  {
   "cell_type": "markdown",
   "metadata": {},
   "source": [
    "## How many zero-duration sessions?"
   ]
  },
  {
   "cell_type": "code",
   "execution_count": 26,
   "metadata": {},
   "outputs": [
    {
     "data": {
      "text/plain": [
       "41"
      ]
     },
     "execution_count": 26,
     "metadata": {},
     "output_type": "execute_result"
    }
   ],
   "source": [
    "len(durations[durations[\"duration\"] == 0])"
   ]
  },
  {
   "cell_type": "markdown",
   "metadata": {},
   "source": [
    "## How many sessions that are longer than 15 minutes?"
   ]
  },
  {
   "cell_type": "code",
   "execution_count": 27,
   "metadata": {},
   "outputs": [
    {
     "data": {
      "text/plain": [
       "6"
      ]
     },
     "execution_count": 27,
     "metadata": {},
     "output_type": "execute_result"
    }
   ],
   "source": [
    "len(durations[durations[\"duration\"] > 60*15])"
   ]
  },
  {
   "cell_type": "markdown",
   "metadata": {},
   "source": [
    "## How many sessions in between?"
   ]
  },
  {
   "cell_type": "code",
   "execution_count": 28,
   "metadata": {},
   "outputs": [
    {
     "data": {
      "text/plain": [
       "94"
      ]
     },
     "execution_count": 28,
     "metadata": {},
     "output_type": "execute_result"
    }
   ],
   "source": [
    "durations = durations[durations[\"duration\"] > 0].copy()\n",
    "durations = durations[durations[\"duration\"] < 60*15].copy()\n",
    "durations.to_csv(\"session_durations.csv\")\n",
    "len(durations)"
   ]
  },
  {
   "cell_type": "markdown",
   "metadata": {},
   "source": [
    "So the longest session was almost 48 hours. This happens when you leave tabs open forever.\n",
    "We find, that there are many 0 duration sessions and that typical sessions are no longer than 3 minutes\n",
    "\n",
    "See `session_durations.vl`"
   ]
  },
  {
   "cell_type": "markdown",
   "metadata": {},
   "source": [
    "## Which charts have been drawn how often?"
   ]
  },
  {
   "cell_type": "code",
   "execution_count": 36,
   "metadata": {},
   "outputs": [],
   "source": [
    "data.groupby([\"scenario\", \"story\", \"graph\"])[\"time\"].count().to_csv(\"overview.csv\")"
   ]
  },
  {
   "cell_type": "markdown",
   "metadata": {},
   "source": [
    "### How many unique visitors did the experiment had?"
   ]
  },
  {
   "cell_type": "code",
   "execution_count": 228,
   "metadata": {},
   "outputs": [
    {
     "data": {
      "text/plain": [
       "33"
      ]
     },
     "execution_count": 228,
     "metadata": {},
     "output_type": "execute_result"
    }
   ],
   "source": [
    "len(data.groupby(['user']))"
   ]
  },
  {
   "cell_type": "markdown",
   "metadata": {},
   "source": [
    "# Preparation"
   ]
  },
  {
   "cell_type": "markdown",
   "metadata": {},
   "source": [
    "## Timedelta\n",
    "\n",
    "In our analysis, the moment of each action should be displayed relative to the starting moment of the scenario"
   ]
  },
  {
   "cell_type": "code",
   "execution_count": 41,
   "metadata": {},
   "outputs": [
    {
     "data": {
      "text/plain": [
       "47.87285027777777"
      ]
     },
     "execution_count": 41,
     "metadata": {},
     "output_type": "execute_result"
    }
   ],
   "source": [
    "minima = data.groupby(\"session\")[\"time\"].min()\n",
    "data[\"minTime\"] = data['session'].map(minima)\n",
    "data[\"timeDelta\"] = (data[\"time\"] - data[\"minTime\"]) / 1000 # in seconds"
   ]
  },
  {
   "cell_type": "markdown",
   "metadata": {},
   "source": [
    "## Creating labels based on the timestamp"
   ]
  },
  {
   "cell_type": "code",
   "execution_count": 137,
   "metadata": {},
   "outputs": [],
   "source": [
    "dateLabels = pd.to_datetime(data.groupby(\"session\")[\"time\"].min(), unit=\"ms\")\n",
    "data[\"sessionDate\"] = data.session.map(dateLabels)"
   ]
  },
  {
   "cell_type": "markdown",
   "metadata": {},
   "source": [
    "## Mapping the positions\n",
    "\n",
    "Positions have been recorded relative to the graph displayed. These need to be remapped to a more sensible, global position value between 0 and 1"
   ]
  },
  {
   "cell_type": "markdown",
   "metadata": {},
   "source": [
    "### Demographics"
   ]
  },
  {
   "cell_type": "code",
   "execution_count": 138,
   "metadata": {},
   "outputs": [],
   "source": [
    "data.loc[data[\"story\"].str.contains(\"demographics\") & data[\"graph\"].str.contains(\"^gender$\"), \"globalPosition\"] = 0\n",
    "data.loc[data[\"story\"].str.contains(\"demographics\") & data[\"graph\"].str.contains(\"^demographics$\"), \"globalPosition\"] = 1"
   ]
  },
  {
   "cell_type": "markdown",
   "metadata": {},
   "source": [
    "#### Juxtaposed"
   ]
  },
  {
   "cell_type": "code",
   "execution_count": 139,
   "metadata": {},
   "outputs": [],
   "source": [
    "data.loc[data[\"scenario\"].str.contains(\"juxtaposed\") & data[\"story\"].str.contains(\"demographics\") & data[\"graph\"].str.contains(\"^gender-highlight$\"), \"globalPosition\"] = data[\"position\"] / 3\n",
    "data.loc[data[\"scenario\"].str.contains(\"juxtaposed\") & data[\"story\"].str.contains(\"demographics\") & data[\"graph\"].str.contains(\"^move-highlight$\"), \"globalPosition\"] = 1/3 + data[\"position\"] / 3\n",
    "data.loc[data[\"scenario\"].str.contains(\"juxtaposed\") & data[\"story\"].str.contains(\"demographics\") & data[\"graph\"].str.contains(\"^highlight-demographics$\"), \"globalPosition\"] = 2/3 + data[\"position\"] / 3"
   ]
  },
  {
   "cell_type": "markdown",
   "metadata": {},
   "source": [
    "#### Superposed"
   ]
  },
  {
   "cell_type": "code",
   "execution_count": 140,
   "metadata": {},
   "outputs": [],
   "source": [
    "data.loc[data[\"scenario\"].str.contains(\"superposed\") & data[\"story\"].str.contains(\"demographics\") & data[\"graph\"].str.contains(\"^gender-highlight$\"), \"globalPosition\"] = data[\"position\"] / 2\n",
    "data.loc[data[\"scenario\"].str.contains(\"superposed\") & data[\"story\"].str.contains(\"demographics\") & data[\"graph\"].str.contains(\"^highlight-demographics$\"), \"globalPosition\"] = 1/2 + data[\"position\"] / 2"
   ]
  },
  {
   "cell_type": "markdown",
   "metadata": {},
   "source": [
    "### Absolute"
   ]
  },
  {
   "cell_type": "code",
   "execution_count": 141,
   "metadata": {},
   "outputs": [],
   "source": [
    "data.loc[data[\"story\"].str.contains(\"absolute\") & data[\"graph\"].str.contains(\"^demographics$\"), \"globalPosition\"] = 0\n",
    "data.loc[data[\"story\"].str.contains(\"absolute\") & data[\"graph\"].str.contains(\"^differences$\"), \"globalPosition\"] = 1"
   ]
  },
  {
   "cell_type": "code",
   "execution_count": 142,
   "metadata": {},
   "outputs": [],
   "source": [
    "data.loc[data[\"story\"].str.contains(\"absolute\") & data[\"graph\"].str.contains(\"^demographics-differences$\"), \"globalPosition\"] = data[\"position\"]"
   ]
  },
  {
   "cell_type": "markdown",
   "metadata": {},
   "source": [
    "### Relative"
   ]
  },
  {
   "cell_type": "code",
   "execution_count": 143,
   "metadata": {},
   "outputs": [],
   "source": [
    "data.loc[data[\"story\"].str.contains(\"relative\") & data[\"graph\"].str.contains(\"^differences$\"), \"globalPosition\"] = 0\n",
    "data.loc[data[\"story\"].str.contains(\"relative\") & data[\"graph\"].str.contains(\"^uptick$\"), \"globalPosition\"] = 1"
   ]
  },
  {
   "cell_type": "code",
   "execution_count": 144,
   "metadata": {},
   "outputs": [],
   "source": [
    "data.loc[data[\"story\"].str.contains(\"relative\") & data[\"graph\"].str.contains(\"^differences-uptick$\"), \"globalPosition\"] = data[\"position\"]"
   ]
  },
  {
   "cell_type": "markdown",
   "metadata": {},
   "source": [
    "### Causes"
   ]
  },
  {
   "cell_type": "code",
   "execution_count": 145,
   "metadata": {},
   "outputs": [],
   "source": [
    "data.loc[data[\"story\"].str.contains(\"causes\") & data[\"graph\"].str.contains(\"^uptick$\"), \"globalPosition\"] = 0\n",
    "data.loc[data[\"story\"].str.contains(\"causes\") & data[\"graph\"].str.contains(\"^aids$\"), \"globalPosition\"] = 1"
   ]
  },
  {
   "cell_type": "markdown",
   "metadata": {},
   "source": [
    "#### Juxtaposed"
   ]
  },
  {
   "cell_type": "code",
   "execution_count": 146,
   "metadata": {},
   "outputs": [],
   "source": [
    "data.loc[data[\"scenario\"].str.contains(\"juxtaposed\") & data[\"story\"].str.contains(\"causes\") & data[\"graph\"].str.contains(\"^move-lines$\"), \"globalPosition\"] = data[\"position\"] / 2\n",
    "data.loc[data[\"scenario\"].str.contains(\"juxtaposed\") & data[\"story\"].str.contains(\"causes\") & data[\"graph\"].str.contains(\"^uptick-aids$\"), \"globalPosition\"] = 1/2 + data[\"position\"] / 2"
   ]
  },
  {
   "cell_type": "markdown",
   "metadata": {},
   "source": [
    "#### Superposed"
   ]
  },
  {
   "cell_type": "code",
   "execution_count": 147,
   "metadata": {},
   "outputs": [],
   "source": [
    "data.loc[data[\"scenario\"].str.contains(\"superposed\") & data[\"story\"].str.contains(\"causes\") & data[\"graph\"].str.contains(\"^highlight$\"), \"globalPosition\"] = data[\"position\"] / 2\n",
    "data.loc[data[\"scenario\"].str.contains(\"superposed\") & data[\"story\"].str.contains(\"causes\") & data[\"graph\"].str.contains(\"^uptick-aids$\"), \"globalPosition\"] = 1/2 + data[\"position\"] / 2"
   ]
  },
  {
   "cell_type": "markdown",
   "metadata": {},
   "source": [
    "We will now remove all the positions that have not been mapped. These graphs are only supporting and do not contain any information. First we check to make sure we didn't miss anything important"
   ]
  },
  {
   "cell_type": "code",
   "execution_count": 148,
   "metadata": {},
   "outputs": [
    {
     "data": {
      "text/plain": [
       "array(['@alive', '@init', 'empty-demographics', 'differences-empty',\n",
       "       'aids-empty', 'uptick-empty'], dtype=object)"
      ]
     },
     "execution_count": 148,
     "metadata": {},
     "output_type": "execute_result"
    }
   ],
   "source": [
    "data[data.globalPosition.isna()].graph.unique()"
   ]
  },
  {
   "cell_type": "code",
   "execution_count": 149,
   "metadata": {},
   "outputs": [
    {
     "data": {
      "text/plain": [
       "0.7424862041781631"
      ]
     },
     "execution_count": 149,
     "metadata": {},
     "output_type": "execute_result"
    }
   ],
   "source": [
    "slim = data[~data.globalPosition.isna()].copy()\n",
    "len(slim)/len(data)"
   ]
  },
  {
   "cell_type": "markdown",
   "metadata": {},
   "source": [
    "## Ignore very long and zero-length scenarios for now"
   ]
  },
  {
   "cell_type": "code",
   "execution_count": 150,
   "metadata": {},
   "outputs": [
    {
     "data": {
      "text/plain": [
       "0.7453797405355188"
      ]
     },
     "execution_count": 150,
     "metadata": {},
     "output_type": "execute_result"
    }
   ],
   "source": [
    "maxDelta = slim.groupby(\"session\").timeDelta.max()\n",
    "slim[\"maxDelta\"] = slim.session.map(maxDelta)\n",
    "slimBrief = slim[(slim.maxDelta > 0.0) & (slim.maxDelta < 180)].copy()\n",
    "\n",
    "len(slimBrief) / len(slim)"
   ]
  },
  {
   "cell_type": "code",
   "execution_count": null,
   "metadata": {},
   "outputs": [],
   "source": []
  },
  {
   "cell_type": "code",
   "execution_count": 161,
   "metadata": {},
   "outputs": [],
   "source": [
    "slimBrief[slimBrief.scenario.str.contains(\"juxtaposed\") & slimBrief.story.str.contains(\"demographics\")].to_csv(\"juxtaposed-demographics.csv\")"
   ]
  },
  {
   "cell_type": "code",
   "execution_count": 162,
   "metadata": {},
   "outputs": [],
   "source": [
    "slimBrief[slimBrief.scenario.str.contains(\"juxtaposed\") & slimBrief.story.str.contains(\"absolute\")].to_csv(\"juxtaposed-absolute.csv\")"
   ]
  },
  {
   "cell_type": "code",
   "execution_count": 163,
   "metadata": {},
   "outputs": [],
   "source": [
    "slimBrief[slimBrief.scenario.str.contains(\"juxtaposed\") & slimBrief.story.str.contains(\"relative\")].to_csv(\"juxtaposed-relative.csv\")"
   ]
  },
  {
   "cell_type": "code",
   "execution_count": 164,
   "metadata": {},
   "outputs": [],
   "source": [
    "slimBrief[slimBrief.scenario.str.contains(\"juxtaposed\") & slimBrief.story.str.contains(\"causes\")].to_csv(\"juxtaposed-causes.csv\")"
   ]
  },
  {
   "cell_type": "code",
   "execution_count": 165,
   "metadata": {},
   "outputs": [],
   "source": [
    "slimBrief[slimBrief.scenario.str.contains(\"superposed\") & slimBrief.story.str.contains(\"demographics\")].to_csv(\"superposed-demographics.csv\")"
   ]
  },
  {
   "cell_type": "code",
   "execution_count": 166,
   "metadata": {},
   "outputs": [],
   "source": [
    "slimBrief[slimBrief.scenario.str.contains(\"superposed\") & slimBrief.story.str.contains(\"absolute\")].to_csv(\"superposed-absolute.csv\")"
   ]
  },
  {
   "cell_type": "code",
   "execution_count": 167,
   "metadata": {},
   "outputs": [],
   "source": [
    "slimBrief[slimBrief.scenario.str.contains(\"superposed\") & slimBrief.story.str.contains(\"relative\")].to_csv(\"superposed-relative.csv\")"
   ]
  },
  {
   "cell_type": "code",
   "execution_count": 160,
   "metadata": {},
   "outputs": [],
   "source": [
    "slimBrief[slimBrief.scenario.str.contains(\"superposed\") & slimBrief.story.str.contains(\"causes\")].to_csv(\"superposed-causes.csv\")"
   ]
  },
  {
   "cell_type": "markdown",
   "metadata": {},
   "source": [
    "## Analysis"
   ]
  },
  {
   "cell_type": "markdown",
   "metadata": {},
   "source": [
    "Remove all the sessions where the timedelta is more than 10 minutes, they are hard to analyze"
   ]
  },
  {
   "cell_type": "code",
   "execution_count": 232,
   "metadata": {},
   "outputs": [],
   "source": [
    "brief_sessions = real_sessions.groupby(['session']).filter(lambda sess: sess[\"time\"].max() - sess[\"time\"].min() < 1000*60*3)"
   ]
  },
  {
   "cell_type": "markdown",
   "metadata": {},
   "source": [
    "Remove all the sessions where the timedelta is shorter than 10 seconds"
   ]
  },
  {
   "cell_type": "code",
   "execution_count": 233,
   "metadata": {},
   "outputs": [],
   "source": [
    "regular_sessions = real_sessions.groupby(['session']).filter(lambda sess: sess[\"time\"].max() - sess[\"time\"].min() > 1000*10)"
   ]
  },
  {
   "cell_type": "markdown",
   "metadata": {},
   "source": [
    "Remove everything that is not really a position"
   ]
  },
  {
   "cell_type": "code",
   "execution_count": 234,
   "metadata": {},
   "outputs": [],
   "source": [
    "#positions = regular_sessions[regular_sessions[\"graph\"].str.contains(\"@\") == False].copy()"
   ]
  },
  {
   "cell_type": "markdown",
   "metadata": {},
   "source": [
    "Only work on the *demographics* story for now"
   ]
  },
  {
   "cell_type": "code",
   "execution_count": 235,
   "metadata": {},
   "outputs": [],
   "source": [
    "positions = positions[positions[\"story\"].str.contains(\"demographics\")].copy()"
   ]
  },
  {
   "cell_type": "markdown",
   "metadata": {},
   "source": [
    "Calculate a new position value based on the order of the graphs on the page"
   ]
  },
  {
   "cell_type": "code",
   "execution_count": 236,
   "metadata": {},
   "outputs": [],
   "source": []
  },
  {
   "cell_type": "code",
   "execution_count": null,
   "metadata": {},
   "outputs": [],
   "source": []
  },
  {
   "cell_type": "code",
   "execution_count": 237,
   "metadata": {},
   "outputs": [
    {
     "data": {
      "text/plain": [
       "840.833"
      ]
     },
     "execution_count": 237,
     "metadata": {},
     "output_type": "execute_result"
    }
   ],
   "source": []
  },
  {
   "cell_type": "code",
   "execution_count": 239,
   "metadata": {},
   "outputs": [],
   "source": [
    "positions[positions[\"timeDelta\"] < 30].to_csv(\"session.csv\")"
   ]
  },
  {
   "cell_type": "code",
   "execution_count": 240,
   "metadata": {},
   "outputs": [
    {
     "data": {
      "text/plain": [
       "session\n",
       "1549274269236-0.yzc7jfhnfej     12.466\n",
       "1549274965230-0.ak1aliaur6m    840.833\n",
       "1549279062844-0.453sw2moigx      1.700\n",
       "1549306266670-0.7gh6fnk0ows     88.585\n",
       "1549306541856-0.tza67t8rk19      0.000\n",
       "1549312331726-0.q3qk6cdwddm     37.446\n",
       "1549315908440-0.c6ywoi0bqu4     12.816\n",
       "1549317344349-0.n4zmo71rmbm     14.967\n",
       "1549380220616-0.cspk0t9rbnp     23.255\n",
       "1549381866349-0.i3cnhn9nwq      12.119\n",
       "1549545879947-0.m97m1d0puqe      2.169\n",
       "1549838491091-0.gzqyh5o0mn6    116.108\n",
       "1549984548917-0.rwf0vzs5za      22.793\n",
       "1549984621996-0.9xjmsaz4gvc    508.201\n",
       "1550247468441-0.85qs18bpqfo     81.527\n",
       "1550516147178-0.ni3ijna7rhc      1.958\n",
       "1550572077858-0.rahqnuts569    126.432\n",
       "1550579654685-0.p6uisi4ae9n      7.136\n",
       "1550579676249-0.cffax86sm8f     11.269\n",
       "1550579694356-0.js751b7lf9f     15.338\n",
       "1550579796764-0.2ftknj4huym      4.282\n",
       "1550579829913-0.geud6t88m5g      8.504\n",
       "1550579850298-0.bk78iheeno      39.470\n",
       "1550579908210-0.v4edgqzgzt      38.459\n",
       "1550580657480-0.8bzojbn8rv2     13.339\n",
       "Name: timeDelta, dtype: float64"
      ]
     },
     "execution_count": 240,
     "metadata": {},
     "output_type": "execute_result"
    }
   ],
   "source": [
    "positions.groupby(\"session\")[\"timeDelta\"].max()"
   ]
  },
  {
   "cell_type": "code",
   "execution_count": null,
   "metadata": {},
   "outputs": [],
   "source": []
  }
 ],
 "metadata": {
  "kernelspec": {
   "display_name": "Python 3",
   "language": "python",
   "name": "python3"
  },
  "language_info": {
   "codemirror_mode": {
    "name": "ipython",
    "version": 3
   },
   "file_extension": ".py",
   "mimetype": "text/x-python",
   "name": "python",
   "nbconvert_exporter": "python",
   "pygments_lexer": "ipython3",
   "version": "3.7.1"
  }
 },
 "nbformat": 4,
 "nbformat_minor": 2
}
